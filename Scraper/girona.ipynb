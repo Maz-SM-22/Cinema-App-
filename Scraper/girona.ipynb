{
 "cells": [
  {
   "cell_type": "code",
   "execution_count": 1,
   "metadata": {},
   "outputs": [],
   "source": [
    "import requests\n",
    "import re\n",
    "from lxml.html import fromstring\n",
    "import json \n",
    "import os"
   ]
  },
  {
   "cell_type": "code",
   "execution_count": 4,
   "metadata": {},
   "outputs": [],
   "source": [
    "url = 'https://www.cinemesgirona.cat/cartelera'\n",
    "base_url = url[:-10]"
   ]
  },
  {
   "cell_type": "code",
   "execution_count": null,
   "metadata": {},
   "outputs": [],
   "source": [
    "class Scraper: \n",
    "    def __init__(self, url): \n",
    "        self.url = url \n",
    "    def get_html(self): \n",
    "        try: \n",
    "            response = requests.get(self.url)\n",
    "            response.raise_for_status()\n",
    "        except requests.RequestException: \n",
    "            print('A problem occurred with your request')\n",
    "            raise\n",
    "        html = fromstring(response.content)\n",
    "        return html\n",
    "    def get_all_films(self): \n",
    "        results = []\n",
    "        page = self.get_html()\n",
    "        page_results = page.findall('.//div[@id=\"carteleralist\"]//article')    \n",
    "        for item in page_results: \n",
    "            href = item.xpath('.//a/@href')[0]\n",
    "            link = url[:-17] + href\n",
    "            results.append(link)\n",
    "        return results"
   ]
  },
  {
   "cell_type": "code",
   "execution_count": null,
   "metadata": {},
   "outputs": [],
   "source": [
    "class Scraper: \n",
    "    def __init__(self, url): \n",
    "        self.url = url \n",
    "    def get_html(self): \n",
    "        try: \n",
    "            response = requests.get(self.url)\n",
    "            response.raise_for_status()\n",
    "        except requests.RequestException: \n",
    "            print('A problem occurred with your request')\n",
    "            raise\n",
    "        html = fromstring(response.content)\n",
    "        return html\n",
    "    def get_all_film_info(self): \n",
    "        screenings = []\n",
    "        page = self.get_html()\n",
    "        times = page.findall('.//div[contains(@class, \"pelicula\")]//a[contains(@title, \"2021\")]')    \n",
    "        for time in times: \n",
    "            film = {}\n",
    "            film['link'] = time.xpath('.//@href')[0]\n",
    "            datetime = time.xpath('.//@title')\n",
    "            film['time'] = datetime[-5:]\n",
    "            film['date'] = '{}-{}-{}'.format(datetime[0:4], datetime[4:6], datetime[6:8])\n",
    "            film['film'] = {}\n",
    "            film['film']['title'] = page.xpath()\n",
    "        return screenings"
   ]
  },
  {
   "cell_type": "code",
   "execution_count": null,
   "metadata": {},
   "outputs": [],
   "source": []
  },
  {
   "cell_type": "code",
   "execution_count": null,
   "metadata": {},
   "outputs": [],
   "source": []
  },
  {
   "cell_type": "code",
   "execution_count": null,
   "metadata": {},
   "outputs": [],
   "source": []
  }
 ],
 "metadata": {
  "kernelspec": {
   "display_name": "Python 3",
   "language": "python",
   "name": "python3"
  },
  "language_info": {
   "codemirror_mode": {
    "name": "ipython",
    "version": 3
   },
   "file_extension": ".py",
   "mimetype": "text/x-python",
   "name": "python",
   "nbconvert_exporter": "python",
   "pygments_lexer": "ipython3",
   "version": "3.8.1"
  }
 },
 "nbformat": 4,
 "nbformat_minor": 4
}
